{
 "cells": [
  {
   "cell_type": "code",
   "execution_count": 1,
   "id": "cd57b802",
   "metadata": {},
   "outputs": [],
   "source": [
    "class Car:\n",
    "    pass"
   ]
  },
  {
   "cell_type": "code",
   "execution_count": 2,
   "id": "020c6a87",
   "metadata": {},
   "outputs": [
    {
     "data": {
      "text/plain": [
       "__main__.Car"
      ]
     },
     "execution_count": 2,
     "metadata": {},
     "output_type": "execute_result"
    }
   ],
   "source": [
    "Car"
   ]
  },
  {
   "cell_type": "code",
   "execution_count": 3,
   "id": "acfe1ee9",
   "metadata": {},
   "outputs": [],
   "source": [
    "c1=3+6j\n",
    "c2=7+8j"
   ]
  },
  {
   "cell_type": "code",
   "execution_count": 4,
   "id": "22112f2a",
   "metadata": {},
   "outputs": [
    {
     "name": "stdout",
     "output_type": "stream",
     "text": [
      "<class 'complex'> <class 'complex'>\n"
     ]
    }
   ],
   "source": [
    "print(type(c1),type(c2))"
   ]
  },
  {
   "cell_type": "code",
   "execution_count": 5,
   "id": "0dac9452",
   "metadata": {},
   "outputs": [
    {
     "data": {
      "text/plain": [
       "3.0"
      ]
     },
     "execution_count": 5,
     "metadata": {},
     "output_type": "execute_result"
    }
   ],
   "source": [
    "c1.real #attribute of complex class"
   ]
  },
  {
   "cell_type": "code",
   "execution_count": 6,
   "id": "23c738b8",
   "metadata": {},
   "outputs": [],
   "source": [
    "class car:\n",
    "    pass"
   ]
  },
  {
   "cell_type": "code",
   "execution_count": 9,
   "id": "cb8da269",
   "metadata": {},
   "outputs": [],
   "source": [
    "swift=car()"
   ]
  },
  {
   "cell_type": "code",
   "execution_count": 10,
   "id": "7103d4b4",
   "metadata": {},
   "outputs": [
    {
     "name": "stdout",
     "output_type": "stream",
     "text": [
      "<class '__main__.car'>\n"
     ]
    }
   ],
   "source": [
    "print(type(swift))"
   ]
  },
  {
   "cell_type": "code",
   "execution_count": 17,
   "id": "3dfbb89a",
   "metadata": {},
   "outputs": [],
   "source": [
    "class Student:\n",
    "    def __init__(srg):\n",
    "        name=\"Thanu\"\n",
    "        print(id(srg))\n",
    "        print(\"Hello\")"
   ]
  },
  {
   "cell_type": "code",
   "execution_count": 18,
   "id": "89b1f210",
   "metadata": {},
   "outputs": [
    {
     "name": "stdout",
     "output_type": "stream",
     "text": [
      "1584902423360\n",
      "Hello\n"
     ]
    }
   ],
   "source": [
    "s1=Student()"
   ]
  },
  {
   "cell_type": "code",
   "execution_count": 19,
   "id": "d97f13b4",
   "metadata": {},
   "outputs": [
    {
     "name": "stdout",
     "output_type": "stream",
     "text": [
      "1584902423360\n"
     ]
    }
   ],
   "source": [
    "print(id(s1)) #s1 itself gives its reference to create a instance (object) hence we use a word \"self\" (here srg in init)"
   ]
  },
  {
   "cell_type": "code",
   "execution_count": 23,
   "id": "1c77ea1a",
   "metadata": {},
   "outputs": [],
   "source": [
    "class Student:\n",
    "    def __init__(self):\n",
    "        name=\"Thanu\"\n",
    "        self.name=\"Thanu\"\n",
    "        self.rollno=1\n",
    "        "
   ]
  },
  {
   "cell_type": "code",
   "execution_count": 24,
   "id": "d73a6789",
   "metadata": {},
   "outputs": [],
   "source": [
    "s1=Student()"
   ]
  },
  {
   "cell_type": "code",
   "execution_count": 25,
   "id": "6808207d",
   "metadata": {},
   "outputs": [
    {
     "name": "stdout",
     "output_type": "stream",
     "text": [
      "Thanu\n"
     ]
    }
   ],
   "source": [
    "print(s1.name)"
   ]
  },
  {
   "cell_type": "code",
   "execution_count": 26,
   "id": "7f45fe80",
   "metadata": {},
   "outputs": [],
   "source": [
    "s2=Student()"
   ]
  },
  {
   "cell_type": "code",
   "execution_count": 27,
   "id": "7abc3daa",
   "metadata": {},
   "outputs": [
    {
     "name": "stdout",
     "output_type": "stream",
     "text": [
      "Thanu\n"
     ]
    }
   ],
   "source": [
    "print(s2.name)"
   ]
  },
  {
   "cell_type": "code",
   "execution_count": 1,
   "id": "48025c23",
   "metadata": {},
   "outputs": [],
   "source": [
    "class Student:\n",
    "    def __init__(self,name,rollno,marks):\n",
    "        name=\"Thanu\"\n",
    "        self.name=\"Thanu\"\n",
    "        self.rollno=1\n",
    "        self.marks=76\n",
    "        "
   ]
  },
  {
   "cell_type": "code",
   "execution_count": 3,
   "id": "3cdad0c1",
   "metadata": {},
   "outputs": [
    {
     "data": {
      "text/plain": [
       "('Thanu', 1, 76)"
      ]
     },
     "execution_count": 3,
     "metadata": {},
     "output_type": "execute_result"
    }
   ],
   "source": [
    "s1=Student(\"Nani\",21,67)\n",
    "s1.name,s1.rollno,s1.marks"
   ]
  },
  {
   "cell_type": "code",
   "execution_count": 41,
   "id": "36d3158a",
   "metadata": {},
   "outputs": [],
   "source": [
    "class Student:\n",
    "    def __init__(self,name,rollno,marks):\n",
    "        self.name=name\n",
    "        self.rollno=rollno\n",
    "        self.marks=marks"
   ]
  },
  {
   "cell_type": "code",
   "execution_count": 42,
   "id": "447731c3",
   "metadata": {},
   "outputs": [
    {
     "data": {
      "text/plain": [
       "('Nani', 21, 67)"
      ]
     },
     "execution_count": 42,
     "metadata": {},
     "output_type": "execute_result"
    }
   ],
   "source": [
    "s1=Student(\"Nani\",21,67)\n",
    "s1.name,s1.rollno,s1.marks"
   ]
  },
  {
   "cell_type": "code",
   "execution_count": 48,
   "id": "525eeaa1",
   "metadata": {},
   "outputs": [],
   "source": [
    "class Student:\n",
    "    def __init__(self,name,rollno,marks):\n",
    "        self.name=name\n",
    "        self.rollno=rollno\n",
    "        self.marks=marks\n",
    "    def study(self):\n",
    "        print(\"I am studying\",self.name)"
   ]
  },
  {
   "cell_type": "code",
   "execution_count": 49,
   "id": "7729434a",
   "metadata": {},
   "outputs": [
    {
     "name": "stdout",
     "output_type": "stream",
     "text": [
      "I am studying Ani\n"
     ]
    }
   ],
   "source": [
    "s1=Student(\"Ani\",32,76)\n",
    "s1.study()"
   ]
  },
  {
   "cell_type": "code",
   "execution_count": 126,
   "id": "5f4205d6",
   "metadata": {},
   "outputs": [],
   "source": [
    "class ComplexNumbers:\n",
    "    def __init__(self,real=0.0,imag=0.0):\n",
    "        self.real=real\n",
    "        self.imaginary=imag\n",
    "    \n",
    "    def __str__(self):#defines how to print, magic method (dunder), self called when called print\n",
    "        if (self.real==0):\n",
    "            s=f\"{self.imaginary}i\"\n",
    "        elif self.imaginary<0:\n",
    "            s=f\"{self.real}{self.imaginary}i\"\n",
    "        else:\n",
    "            s=f\"{self.real}+{self.imaginary}i\"\n",
    "        return s\n",
    "    \n",
    "    def __add__(arg1,arg2):\n",
    "        resultReal=0\n",
    "        resultImag=0\n",
    "        resultReal=arg1.real+arg2.real\n",
    "        resultImag=arg1.imaginary+arg2.imaginary\n",
    "        ans=ComplexNumbers(resultReal,resultImag)\n",
    "        return ans\n",
    "    \n",
    "    def __mul__(arg1,arg2):\n",
    "        resultReal=0\n",
    "        resultImag=0\n",
    "        resultReal=arg1.real*arg2.real-arg1.imaginary*arg2.imaginary\n",
    "        resultImag=arg1.real*arg2.imaginary+arg2.real*arg1.imaginary\n",
    "        ans=ComplexNumbers(resultReal,resultImag)\n",
    "        return ans\n",
    "    \n",
    "    def __sub__(arg1,arg2):\n",
    "        resultReal=0\n",
    "        resultImag=0\n",
    "        resultReal=arg1.real-arg2.real\n",
    "        resultImag=arg1.imaginary-arg2.imaginary\n",
    "        ans=ComplexNumbers(resultReal,resultImag)\n",
    "        return ans\n",
    "    \n",
    "    def __truediv__(arg1,arg2):\n",
    "        resultReal=0\n",
    "        resultImag=0\n",
    "        den=(arg2.real**2)+(arg2.imaginary**2)\n",
    "        ans=arg1*ComplexNumbers(arg2.real/den,-1*arg2.imaginary/den)\n",
    "        return ans\n",
    "    \n",
    "    def conjugate(self):\n",
    "        return ComplexNumbers(self.real,-1*self.imaginary)"
   ]
  },
  {
   "cell_type": "code",
   "execution_count": 127,
   "id": "24282ebc",
   "metadata": {},
   "outputs": [],
   "source": [
    "cn1=ComplexNumbers(3,4)\n",
    "cn2=ComplexNumbers(4,5)"
   ]
  },
  {
   "cell_type": "code",
   "execution_count": 128,
   "id": "5898b3c7",
   "metadata": {},
   "outputs": [
    {
     "name": "stdout",
     "output_type": "stream",
     "text": [
      "7+9i\n"
     ]
    }
   ],
   "source": [
    "print(cn1+cn2)"
   ]
  },
  {
   "cell_type": "code",
   "execution_count": 129,
   "id": "ab6ad27a",
   "metadata": {},
   "outputs": [
    {
     "name": "stdout",
     "output_type": "stream",
     "text": [
      "-8+31i\n"
     ]
    }
   ],
   "source": [
    "print(cn1*cn2)"
   ]
  },
  {
   "cell_type": "code",
   "execution_count": 130,
   "id": "bf6960c2",
   "metadata": {},
   "outputs": [
    {
     "name": "stdout",
     "output_type": "stream",
     "text": [
      "-1-1i\n"
     ]
    }
   ],
   "source": [
    "print(cn1-cn2)"
   ]
  },
  {
   "cell_type": "code",
   "execution_count": 131,
   "id": "376996fe",
   "metadata": {},
   "outputs": [
    {
     "name": "stdout",
     "output_type": "stream",
     "text": [
      "0.7804878048780488+0.024390243902439046i\n"
     ]
    }
   ],
   "source": [
    "print(cn1/cn2)"
   ]
  },
  {
   "cell_type": "code",
   "execution_count": 112,
   "id": "ad62e404",
   "metadata": {},
   "outputs": [
    {
     "name": "stdout",
     "output_type": "stream",
     "text": [
      "3-4i\n"
     ]
    }
   ],
   "source": [
    "print(cn1.conjugate())"
   ]
  },
  {
   "cell_type": "code",
   "execution_count": 81,
   "id": "1d6d855d",
   "metadata": {},
   "outputs": [
    {
     "data": {
      "text/plain": [
       "(3, 5)"
      ]
     },
     "execution_count": 81,
     "metadata": {},
     "output_type": "execute_result"
    }
   ],
   "source": [
    "cn.real,cn.imaginary"
   ]
  },
  {
   "cell_type": "code",
   "execution_count": 82,
   "id": "9fc9e157",
   "metadata": {},
   "outputs": [
    {
     "name": "stdout",
     "output_type": "stream",
     "text": [
      "3+5i\n"
     ]
    }
   ],
   "source": [
    "print(cn)"
   ]
  },
  {
   "cell_type": "code",
   "execution_count": 72,
   "id": "1c9d58e6",
   "metadata": {},
   "outputs": [
    {
     "name": "stdout",
     "output_type": "stream",
     "text": [
      "3+-5\n"
     ]
    }
   ],
   "source": [
    "cn.conjugate()"
   ]
  },
  {
   "cell_type": "code",
   "execution_count": 142,
   "id": "2ca3ddd3",
   "metadata": {},
   "outputs": [],
   "source": [
    "class Student:\n",
    "    noofstudents=0 #class variable\n",
    "    def __init__(self,name,rollno,marks):\n",
    "        self.name=name #instance variable\n",
    "        self.rollno=rollno\n",
    "        self.marks=marks\n",
    "        self.noofstud=Student.noofstudents+1 #instance variable\n",
    "        Student.noofstudents=Student.noofstudents+1\n",
    "        \n",
    "    def study(self):\n",
    "        print(\"I am studying\",self.name)"
   ]
  },
  {
   "cell_type": "code",
   "execution_count": 143,
   "id": "8eb71a80",
   "metadata": {},
   "outputs": [],
   "source": [
    "s1=Student(\"Thanu\",546,879)\n",
    "s2=Student(\"Ani\",88,876)"
   ]
  },
  {
   "cell_type": "code",
   "execution_count": 144,
   "id": "6cc83109",
   "metadata": {},
   "outputs": [
    {
     "data": {
      "text/plain": [
       "(1, 2, 2)"
      ]
     },
     "execution_count": 144,
     "metadata": {},
     "output_type": "execute_result"
    }
   ],
   "source": [
    "s1.noofstud,s2.noofstud,Student.noofstudents"
   ]
  },
  {
   "cell_type": "code",
   "execution_count": 145,
   "id": "4d831cac",
   "metadata": {},
   "outputs": [
    {
     "data": {
      "text/plain": [
       "879"
      ]
     },
     "execution_count": 145,
     "metadata": {},
     "output_type": "execute_result"
    }
   ],
   "source": [
    "s1.marks"
   ]
  },
  {
   "cell_type": "code",
   "execution_count": 146,
   "id": "a4eb0357",
   "metadata": {},
   "outputs": [
    {
     "data": {
      "text/plain": [
       "876"
      ]
     },
     "execution_count": 146,
     "metadata": {},
     "output_type": "execute_result"
    }
   ],
   "source": [
    "s2.marks"
   ]
  },
  {
   "cell_type": "code",
   "execution_count": 147,
   "id": "c13734fb",
   "metadata": {},
   "outputs": [],
   "source": [
    "s1.marks=709 # the value of instance variables are getting changed which is not good "
   ]
  },
  {
   "cell_type": "code",
   "execution_count": 148,
   "id": "e2440ae9",
   "metadata": {},
   "outputs": [
    {
     "data": {
      "text/plain": [
       "709"
      ]
     },
     "execution_count": 148,
     "metadata": {},
     "output_type": "execute_result"
    }
   ],
   "source": [
    "s1.marks"
   ]
  },
  {
   "cell_type": "code",
   "execution_count": 196,
   "id": "f4e0c4d4",
   "metadata": {},
   "outputs": [],
   "source": [
    "#ENCAPSULATION\n",
    "class Student:\n",
    "    noofstudents=0 #class variable\n",
    "    __schoolname=\"absd\"\n",
    "    def __init__(self,name,rollno,marks):\n",
    "        self.name=name #instance variable\n",
    "        self.rollno=rollno\n",
    "        self.__marks=marks # \"__\" will make the variable private which can't be accessed from outside the class\n",
    "        self.noofstud=Student.noofstudents+1 #instance variable\n",
    "        Student.noofstudents=Student.noofstudents+1\n",
    "        \n",
    "    #getter\n",
    "    def getmarks(self):\n",
    "        return(self.__marks)\n",
    "    \n",
    "    #setter\n",
    "    def setmarks(self,newmarks,passcode):\n",
    "        if(passcode==self.__auth()):\n",
    "            self.__marks=newmarks\n",
    "        else:\n",
    "            return(\" unauthenticated\")\n",
    "    \n",
    "    @staticmethod\n",
    "    def getschoolname():\n",
    "        return Student.__schoolname\n",
    "    \n",
    "    def getstudentschool(self):\n",
    "        return Student.__schoolname\n",
    "    \n",
    "    def __auth(self):\n",
    "        return \"00000\" # as it has the real password to check authentication it should not be visible outside hence we make it private \n",
    "    \n",
    "        \n",
    "    def study(self):\n",
    "        print(\"I am studying\",self.name)"
   ]
  },
  {
   "cell_type": "code",
   "execution_count": 197,
   "id": "c2ad67b6",
   "metadata": {},
   "outputs": [],
   "source": [
    "s1=Student(\"Thanu\",546,879)\n",
    "s2=Student(\"Ani\",88,876)"
   ]
  },
  {
   "cell_type": "code",
   "execution_count": 198,
   "id": "4840aceb",
   "metadata": {},
   "outputs": [
    {
     "data": {
      "text/plain": [
       "'absd'"
      ]
     },
     "execution_count": 198,
     "metadata": {},
     "output_type": "execute_result"
    }
   ],
   "source": [
    "s1.getschoolname()"
   ]
  },
  {
   "cell_type": "code",
   "execution_count": 199,
   "id": "0010cda5",
   "metadata": {},
   "outputs": [
    {
     "data": {
      "text/plain": [
       "'absd'"
      ]
     },
     "execution_count": 199,
     "metadata": {},
     "output_type": "execute_result"
    }
   ],
   "source": [
    "Student.getschoolname() #as it is a static method we can access without making the object"
   ]
  },
  {
   "cell_type": "code",
   "execution_count": 200,
   "id": "409892f0",
   "metadata": {},
   "outputs": [
    {
     "data": {
      "text/plain": [
       "'absd'"
      ]
     },
     "execution_count": 200,
     "metadata": {},
     "output_type": "execute_result"
    }
   ],
   "source": [
    "s1.getstudentschool()"
   ]
  },
  {
   "cell_type": "code",
   "execution_count": 201,
   "id": "8e623b4f",
   "metadata": {},
   "outputs": [
    {
     "ename": "TypeError",
     "evalue": "Student.getstudentschool() missing 1 required positional argument: 'self'",
     "output_type": "error",
     "traceback": [
      "\u001b[1;31m---------------------------------------------------------------------------\u001b[0m",
      "\u001b[1;31mTypeError\u001b[0m                                 Traceback (most recent call last)",
      "Cell \u001b[1;32mIn[201], line 1\u001b[0m\n\u001b[1;32m----> 1\u001b[0m \u001b[43mStudent\u001b[49m\u001b[38;5;241;43m.\u001b[39;49m\u001b[43mgetstudentschool\u001b[49m\u001b[43m(\u001b[49m\u001b[43m)\u001b[49m\n",
      "\u001b[1;31mTypeError\u001b[0m: Student.getstudentschool() missing 1 required positional argument: 'self'"
     ]
    }
   ],
   "source": [
    "Student.getstudentschool() # normal methods cannot be called using class name unless it is static"
   ]
  },
  {
   "cell_type": "code",
   "execution_count": 186,
   "id": "852f54df",
   "metadata": {},
   "outputs": [
    {
     "ename": "AttributeError",
     "evalue": "'Student' object has no attribute 'marks'",
     "output_type": "error",
     "traceback": [
      "\u001b[1;31m---------------------------------------------------------------------------\u001b[0m",
      "\u001b[1;31mAttributeError\u001b[0m                            Traceback (most recent call last)",
      "Cell \u001b[1;32mIn[186], line 1\u001b[0m\n\u001b[1;32m----> 1\u001b[0m \u001b[43ms1\u001b[49m\u001b[38;5;241;43m.\u001b[39;49m\u001b[43mmarks\u001b[49m\n",
      "\u001b[1;31mAttributeError\u001b[0m: 'Student' object has no attribute 'marks'"
     ]
    }
   ],
   "source": [
    "s1.marks"
   ]
  },
  {
   "cell_type": "code",
   "execution_count": 187,
   "id": "84b7d8fa",
   "metadata": {},
   "outputs": [
    {
     "data": {
      "text/plain": [
       "879"
      ]
     },
     "execution_count": 187,
     "metadata": {},
     "output_type": "execute_result"
    }
   ],
   "source": [
    "s1.getmarks()"
   ]
  },
  {
   "cell_type": "code",
   "execution_count": 188,
   "id": "f7c0be05",
   "metadata": {},
   "outputs": [],
   "source": [
    "s1.marks=67   # new marks instance variable get created and doesn't change \"__marks\" values"
   ]
  },
  {
   "cell_type": "code",
   "execution_count": 189,
   "id": "bcc0c52d",
   "metadata": {},
   "outputs": [
    {
     "data": {
      "text/plain": [
       "67"
      ]
     },
     "execution_count": 189,
     "metadata": {},
     "output_type": "execute_result"
    }
   ],
   "source": [
    "s1.marks"
   ]
  },
  {
   "cell_type": "code",
   "execution_count": 190,
   "id": "946bc586",
   "metadata": {},
   "outputs": [
    {
     "data": {
      "text/plain": [
       "879"
      ]
     },
     "execution_count": 190,
     "metadata": {},
     "output_type": "execute_result"
    }
   ],
   "source": [
    "s1.getmarks() # the default marks doesn't change, we are just allowed to see not to change with this method"
   ]
  },
  {
   "cell_type": "code",
   "execution_count": 191,
   "id": "124a9c5e",
   "metadata": {},
   "outputs": [
    {
     "ename": "AttributeError",
     "evalue": "'Student' object has no attribute '__marks'",
     "output_type": "error",
     "traceback": [
      "\u001b[1;31m---------------------------------------------------------------------------\u001b[0m",
      "\u001b[1;31mAttributeError\u001b[0m                            Traceback (most recent call last)",
      "Cell \u001b[1;32mIn[191], line 1\u001b[0m\n\u001b[1;32m----> 1\u001b[0m \u001b[43ms1\u001b[49m\u001b[38;5;241;43m.\u001b[39;49m\u001b[43m__marks\u001b[49m\n",
      "\u001b[1;31mAttributeError\u001b[0m: 'Student' object has no attribute '__marks'"
     ]
    }
   ],
   "source": [
    "s1.__marks # Hence we can't access the default marks variable outside the class "
   ]
  },
  {
   "cell_type": "code",
   "execution_count": 192,
   "id": "0dd55a86",
   "metadata": {},
   "outputs": [],
   "source": [
    "s1.setmarks(67,\"00000\")"
   ]
  },
  {
   "cell_type": "code",
   "execution_count": 193,
   "id": "c0bf9296",
   "metadata": {},
   "outputs": [
    {
     "data": {
      "text/plain": [
       "67"
      ]
     },
     "execution_count": 193,
     "metadata": {},
     "output_type": "execute_result"
    }
   ],
   "source": [
    "s1.marks"
   ]
  },
  {
   "cell_type": "code",
   "execution_count": 194,
   "id": "86c60ad5",
   "metadata": {},
   "outputs": [
    {
     "data": {
      "text/plain": [
       "67"
      ]
     },
     "execution_count": 194,
     "metadata": {},
     "output_type": "execute_result"
    }
   ],
   "source": [
    "s1.getmarks() # changed using setter method (\"setmarks\")"
   ]
  },
  {
   "cell_type": "code",
   "execution_count": 195,
   "id": "fb2553dd",
   "metadata": {},
   "outputs": [
    {
     "ename": "AttributeError",
     "evalue": "'Student' object has no attribute 'auth'",
     "output_type": "error",
     "traceback": [
      "\u001b[1;31m---------------------------------------------------------------------------\u001b[0m",
      "\u001b[1;31mAttributeError\u001b[0m                            Traceback (most recent call last)",
      "Cell \u001b[1;32mIn[195], line 1\u001b[0m\n\u001b[1;32m----> 1\u001b[0m \u001b[43ms1\u001b[49m\u001b[38;5;241;43m.\u001b[39;49m\u001b[43mauth\u001b[49m()\n",
      "\u001b[1;31mAttributeError\u001b[0m: 'Student' object has no attribute 'auth'"
     ]
    }
   ],
   "source": [
    "s1.auth()"
   ]
  },
  {
   "cell_type": "code",
   "execution_count": 210,
   "id": "a6128112",
   "metadata": {},
   "outputs": [],
   "source": [
    "#Inheritance\n",
    "class usertype:\n",
    "    \"\"\"def __init__(self,name,id):\n",
    "        self.name=name\n",
    "        self.id=id\"\"\"\n",
    "    def login(self):\n",
    "        print(\"Logged in\")\n",
    "    def __logout(self):\n",
    "        print(\"logged out\")"
   ]
  },
  {
   "cell_type": "code",
   "execution_count": 211,
   "id": "e6ed8bd6",
   "metadata": {},
   "outputs": [],
   "source": [
    "class seller(usertype):\n",
    "    pass"
   ]
  },
  {
   "cell_type": "code",
   "execution_count": 212,
   "id": "0b890ec6",
   "metadata": {},
   "outputs": [
    {
     "name": "stdout",
     "output_type": "stream",
     "text": [
      "Logged in\n"
     ]
    },
    {
     "ename": "AttributeError",
     "evalue": "'seller' object has no attribute 'logout'",
     "output_type": "error",
     "traceback": [
      "\u001b[1;31m---------------------------------------------------------------------------\u001b[0m",
      "\u001b[1;31mAttributeError\u001b[0m                            Traceback (most recent call last)",
      "Cell \u001b[1;32mIn[212], line 3\u001b[0m\n\u001b[0;32m      1\u001b[0m s1\u001b[38;5;241m=\u001b[39mseller()\n\u001b[0;32m      2\u001b[0m s1\u001b[38;5;241m.\u001b[39mlogin()\n\u001b[1;32m----> 3\u001b[0m \u001b[43ms1\u001b[49m\u001b[38;5;241;43m.\u001b[39;49m\u001b[43mlogout\u001b[49m()\n",
      "\u001b[1;31mAttributeError\u001b[0m: 'seller' object has no attribute 'logout'"
     ]
    }
   ],
   "source": [
    "s1=seller()\n",
    "s1.login()\n",
    "s1.logout()"
   ]
  },
  {
   "cell_type": "code",
   "execution_count": 215,
   "id": "f8825bd5",
   "metadata": {},
   "outputs": [],
   "source": [
    "class usertype:\n",
    "    def __init__(self,name,id):\n",
    "        self.name=name\n",
    "        self.id=id\n",
    "    def login(self):\n",
    "        print(\"Logged in\")\n",
    "    def __logout(self): # private cannot be accessed by child \n",
    "        print(\"logged out\")\n",
    "    def _protected(self): #protected \n",
    "        print(\"accesseble inside class of parent and child\")"
   ]
  },
  {
   "cell_type": "code",
   "execution_count": 227,
   "id": "71a01cb3",
   "metadata": {},
   "outputs": [],
   "source": [
    "class seller(usertype):\n",
    "    def play(self):\n",
    "        self._protected()\n",
    "        self.__logout() # cannot be accessed as it is private method of parent class "
   ]
  },
  {
   "cell_type": "code",
   "execution_count": 233,
   "id": "6607e477",
   "metadata": {},
   "outputs": [],
   "source": [
    "s1=seller(\"Thanu\",232354)"
   ]
  },
  {
   "cell_type": "code",
   "execution_count": 234,
   "id": "22140433",
   "metadata": {},
   "outputs": [
    {
     "name": "stdout",
     "output_type": "stream",
     "text": [
      "accesseble inside class of parent and child\n"
     ]
    },
    {
     "ename": "AttributeError",
     "evalue": "'seller' object has no attribute '_seller__logout'",
     "output_type": "error",
     "traceback": [
      "\u001b[1;31m---------------------------------------------------------------------------\u001b[0m",
      "\u001b[1;31mAttributeError\u001b[0m                            Traceback (most recent call last)",
      "Cell \u001b[1;32mIn[234], line 1\u001b[0m\n\u001b[1;32m----> 1\u001b[0m \u001b[43ms1\u001b[49m\u001b[38;5;241;43m.\u001b[39;49m\u001b[43mplay\u001b[49m\u001b[43m(\u001b[49m\u001b[43m)\u001b[49m\n",
      "Cell \u001b[1;32mIn[227], line 4\u001b[0m, in \u001b[0;36mseller.play\u001b[1;34m(self)\u001b[0m\n\u001b[0;32m      2\u001b[0m \u001b[38;5;28;01mdef\u001b[39;00m \u001b[38;5;21mplay\u001b[39m(\u001b[38;5;28mself\u001b[39m):\n\u001b[0;32m      3\u001b[0m     \u001b[38;5;28mself\u001b[39m\u001b[38;5;241m.\u001b[39m_protected()\n\u001b[1;32m----> 4\u001b[0m     \u001b[38;5;28;43mself\u001b[39;49m\u001b[38;5;241;43m.\u001b[39;49m\u001b[43m__logout\u001b[49m()\n",
      "\u001b[1;31mAttributeError\u001b[0m: 'seller' object has no attribute '_seller__logout'"
     ]
    }
   ],
   "source": [
    "s1.play()"
   ]
  },
  {
   "cell_type": "code",
   "execution_count": 235,
   "id": "851b4844",
   "metadata": {},
   "outputs": [],
   "source": [
    "u1=usertype(\"Thanua\",5767)\n"
   ]
  },
  {
   "cell_type": "code",
   "execution_count": 236,
   "id": "98644240",
   "metadata": {},
   "outputs": [
    {
     "name": "stdout",
     "output_type": "stream",
     "text": [
      "accesseble inside class of parent and child\n"
     ]
    }
   ],
   "source": [
    "u1._protected()"
   ]
  },
  {
   "cell_type": "code",
   "execution_count": 5,
   "id": "e4afd3dd",
   "metadata": {},
   "outputs": [],
   "source": [
    "class usertype:\n",
    "    def __init__(self,name,id):\n",
    "        self.name=name\n",
    "        self.id=id\n",
    "    def login(self):\n",
    "        print(\"Logged in\")\n",
    "    def __logout(self): # private cannot be accessed by child \n",
    "        print(\"logged out\")\n",
    "    def _protected(self): #protected \n",
    "        print(\"accesseble inside class of parent and child\")"
   ]
  },
  {
   "cell_type": "code",
   "execution_count": 6,
   "id": "d4dd5c13",
   "metadata": {},
   "outputs": [],
   "source": [
    "class seller(usertype):\n",
    "    def __init__(self,marks,score,name,id):\n",
    "        super().__init__(name,id)\n",
    "        self.marks=marks\n",
    "        self.score=score\n",
    "        \n",
    "    def play(self):\n",
    "        self._protected()\n",
    "        self.__logout() # cannot be accessed as it is private method of parent class \n",
    "        \n",
    "    def login(self):\n",
    "        print(\"child login\")\n",
    "        super().login()"
   ]
  },
  {
   "cell_type": "code",
   "execution_count": 7,
   "id": "ef44c2d7",
   "metadata": {},
   "outputs": [
    {
     "name": "stdout",
     "output_type": "stream",
     "text": [
      "child login\n",
      "Logged in\n"
     ]
    }
   ],
   "source": [
    "s1=seller(321,342,\"thanu\",123)\n",
    "s1.login()"
   ]
  },
  {
   "cell_type": "code",
   "execution_count": 8,
   "id": "5d16a641",
   "metadata": {},
   "outputs": [
    {
     "name": "stdout",
     "output_type": "stream",
     "text": [
      "accesseble inside class of parent and child\n"
     ]
    },
    {
     "ename": "AttributeError",
     "evalue": "'seller' object has no attribute '_seller__logout'",
     "output_type": "error",
     "traceback": [
      "\u001b[1;31m---------------------------------------------------------------------------\u001b[0m",
      "\u001b[1;31mAttributeError\u001b[0m                            Traceback (most recent call last)",
      "Cell \u001b[1;32mIn[8], line 1\u001b[0m\n\u001b[1;32m----> 1\u001b[0m \u001b[43ms1\u001b[49m\u001b[38;5;241;43m.\u001b[39;49m\u001b[43mplay\u001b[49m\u001b[43m(\u001b[49m\u001b[43m)\u001b[49m\n",
      "Cell \u001b[1;32mIn[6], line 9\u001b[0m, in \u001b[0;36mseller.play\u001b[1;34m(self)\u001b[0m\n\u001b[0;32m      7\u001b[0m \u001b[38;5;28;01mdef\u001b[39;00m \u001b[38;5;21mplay\u001b[39m(\u001b[38;5;28mself\u001b[39m):\n\u001b[0;32m      8\u001b[0m     \u001b[38;5;28mself\u001b[39m\u001b[38;5;241m.\u001b[39m_protected()\n\u001b[1;32m----> 9\u001b[0m     \u001b[38;5;28;43mself\u001b[39;49m\u001b[38;5;241;43m.\u001b[39;49m\u001b[43m__logout\u001b[49m()\n",
      "\u001b[1;31mAttributeError\u001b[0m: 'seller' object has no attribute '_seller__logout'"
     ]
    }
   ],
   "source": [
    "s1.play()"
   ]
  },
  {
   "cell_type": "code",
   "execution_count": 1,
   "id": "ae72df5c",
   "metadata": {},
   "outputs": [
    {
     "data": {
      "text/plain": [
       "2"
      ]
     },
     "execution_count": 1,
     "metadata": {},
     "output_type": "execute_result"
    }
   ],
   "source": [
    "# polymorphism\n",
    "1+1"
   ]
  },
  {
   "cell_type": "code",
   "execution_count": 2,
   "id": "63339502",
   "metadata": {},
   "outputs": [
    {
     "data": {
      "text/plain": [
       "'11'"
      ]
     },
     "execution_count": 2,
     "metadata": {},
     "output_type": "execute_result"
    }
   ],
   "source": [
    "'1'+'1'"
   ]
  },
  {
   "cell_type": "code",
   "execution_count": 3,
   "id": "350d366f",
   "metadata": {},
   "outputs": [
    {
     "data": {
      "text/plain": [
       "[1, 2, 3, 2, 4, 5, 4]"
      ]
     },
     "execution_count": 3,
     "metadata": {},
     "output_type": "execute_result"
    }
   ],
   "source": [
    "[1,2,3]+[2,4,5,4]"
   ]
  },
  {
   "cell_type": "code",
   "execution_count": 4,
   "id": "1cea2fcf",
   "metadata": {},
   "outputs": [],
   "source": [
    "def sum1(a,b):\n",
    "    return a+b"
   ]
  },
  {
   "cell_type": "code",
   "execution_count": 5,
   "id": "afe9cb78",
   "metadata": {},
   "outputs": [],
   "source": [
    "def sum2(a,b,c):\n",
    "    return a+b+c"
   ]
  },
  {
   "cell_type": "code",
   "execution_count": 6,
   "id": "85a7fc05",
   "metadata": {},
   "outputs": [],
   "source": [
    "def sum(a,b,c=0):\n",
    "    if c==0:\n",
    "        sum1(a,b)\n",
    "    else:\n",
    "        sum2(a,b,c)"
   ]
  },
  {
   "cell_type": "code",
   "execution_count": 7,
   "id": "eab678b0",
   "metadata": {},
   "outputs": [],
   "source": [
    "class A:\n",
    "    def __init__(self,a,b):\n",
    "        self.a=a\n",
    "        self.b=b\n",
    "    def __init__(self,a,b,c):\n",
    "        self.a=a\n",
    "        self.b=b\n",
    "        self.c=c"
   ]
  },
  {
   "cell_type": "code",
   "execution_count": 9,
   "id": "a4d68ce2",
   "metadata": {},
   "outputs": [
    {
     "ename": "TypeError",
     "evalue": "A.__init__() missing 1 required positional argument: 'c'",
     "output_type": "error",
     "traceback": [
      "\u001b[1;31m---------------------------------------------------------------------------\u001b[0m",
      "\u001b[1;31mTypeError\u001b[0m                                 Traceback (most recent call last)",
      "Cell \u001b[1;32mIn[9], line 1\u001b[0m\n\u001b[1;32m----> 1\u001b[0m AA\u001b[38;5;241m=\u001b[39m\u001b[43mA\u001b[49m\u001b[43m(\u001b[49m\u001b[38;5;241;43m2\u001b[39;49m\u001b[43m,\u001b[49m\u001b[38;5;241;43m3\u001b[39;49m\u001b[43m)\u001b[49m\n",
      "\u001b[1;31mTypeError\u001b[0m: A.__init__() missing 1 required positional argument: 'c'"
     ]
    }
   ],
   "source": [
    "AA=A(2,3) # only the latest method will be there in memory hence c is must "
   ]
  },
  {
   "cell_type": "code",
   "execution_count": 10,
   "id": "1a01d2df",
   "metadata": {},
   "outputs": [],
   "source": [
    "class A:\n",
    "    def __init__(self,a,b,c=0):\n",
    "        if c!=0:\n",
    "            self.c=c\n",
    "        self.a=a\n",
    "        self.b=b"
   ]
  },
  {
   "cell_type": "code",
   "execution_count": 11,
   "id": "4de55a0b",
   "metadata": {},
   "outputs": [],
   "source": [
    "AA=A(2,3)"
   ]
  },
  {
   "cell_type": "code",
   "execution_count": 12,
   "id": "1a405323",
   "metadata": {},
   "outputs": [],
   "source": [
    "AA1=A(2,3,4)"
   ]
  },
  {
   "cell_type": "code",
   "execution_count": 13,
   "id": "33edde0f",
   "metadata": {},
   "outputs": [],
   "source": [
    "#as we can able to call method with different number of arguments we can say we implemented polymorphism"
   ]
  },
  {
   "cell_type": "code",
   "execution_count": 14,
   "id": "ae8fe247",
   "metadata": {},
   "outputs": [],
   "source": [
    "class A:\n",
    "    def bark(self): #overridden method\n",
    "        print(\"A\")\n",
    "class B(A):\n",
    "    def bark(self):  #overriding method\n",
    "        print(\"B\")"
   ]
  },
  {
   "cell_type": "code",
   "execution_count": 15,
   "id": "066c3457",
   "metadata": {},
   "outputs": [
    {
     "name": "stdout",
     "output_type": "stream",
     "text": [
      "B\n"
     ]
    }
   ],
   "source": [
    "b=B()\n",
    "b.bark()"
   ]
  },
  {
   "cell_type": "code",
   "execution_count": 17,
   "id": "04a815a6",
   "metadata": {},
   "outputs": [],
   "source": [
    "#abstraction\n",
    "from abc import ABC,abstractmethod"
   ]
  },
  {
   "cell_type": "code",
   "execution_count": 18,
   "id": "33189f93",
   "metadata": {},
   "outputs": [],
   "source": [
    "class User(ABC):\n",
    "    @abstractmethod\n",
    "    def login(self):\n",
    "        pass\n",
    "    \n",
    "    def logout(self):\n",
    "        pass\n",
    "    \n",
    "    @abstractmethod\n",
    "    def auth(self):\n",
    "        pass"
   ]
  },
  {
   "cell_type": "code",
   "execution_count": 21,
   "id": "efc035e7",
   "metadata": {},
   "outputs": [],
   "source": [
    "class Buyer(User):\n",
    "    def checkObject(self,link):\n",
    "        print(link)"
   ]
  },
  {
   "cell_type": "code",
   "execution_count": 22,
   "id": "2b865dbc",
   "metadata": {},
   "outputs": [
    {
     "ename": "TypeError",
     "evalue": "Can't instantiate abstract class Buyer with abstract methods auth, login",
     "output_type": "error",
     "traceback": [
      "\u001b[1;31m---------------------------------------------------------------------------\u001b[0m",
      "\u001b[1;31mTypeError\u001b[0m                                 Traceback (most recent call last)",
      "Cell \u001b[1;32mIn[22], line 1\u001b[0m\n\u001b[1;32m----> 1\u001b[0m b1\u001b[38;5;241m=\u001b[39m\u001b[43mBuyer\u001b[49m\u001b[43m(\u001b[49m\u001b[43m)\u001b[49m\n",
      "\u001b[1;31mTypeError\u001b[0m: Can't instantiate abstract class Buyer with abstract methods auth, login"
     ]
    }
   ],
   "source": [
    "b1=Buyer() # as it has abstract methods it is called abstract class hence can't use "
   ]
  },
  {
   "cell_type": "code",
   "execution_count": 23,
   "id": "95a06d7d",
   "metadata": {},
   "outputs": [],
   "source": [
    "class animal(ABC):\n",
    "    @abstractmethod\n",
    "    def speak(self):\n",
    "        pass"
   ]
  },
  {
   "cell_type": "code",
   "execution_count": 25,
   "id": "17f62b15",
   "metadata": {},
   "outputs": [],
   "source": [
    "class Dog(animal):\n",
    "    def speak(self):\n",
    "        print(\"bark\")"
   ]
  },
  {
   "cell_type": "code",
   "execution_count": 26,
   "id": "40442ffc",
   "metadata": {},
   "outputs": [],
   "source": [
    "d1=Dog()"
   ]
  },
  {
   "cell_type": "code",
   "execution_count": 28,
   "id": "6f970f80",
   "metadata": {},
   "outputs": [
    {
     "name": "stdout",
     "output_type": "stream",
     "text": [
      "bark\n"
     ]
    }
   ],
   "source": [
    "d1.speak()"
   ]
  },
  {
   "cell_type": "code",
   "execution_count": 29,
   "id": "8b966881",
   "metadata": {},
   "outputs": [],
   "source": [
    "class cat(animal):\n",
    "    pass"
   ]
  },
  {
   "cell_type": "code",
   "execution_count": 31,
   "id": "5a1a4d3f",
   "metadata": {},
   "outputs": [
    {
     "ename": "TypeError",
     "evalue": "Can't instantiate abstract class cat with abstract method speak",
     "output_type": "error",
     "traceback": [
      "\u001b[1;31m---------------------------------------------------------------------------\u001b[0m",
      "\u001b[1;31mTypeError\u001b[0m                                 Traceback (most recent call last)",
      "Cell \u001b[1;32mIn[31], line 1\u001b[0m\n\u001b[1;32m----> 1\u001b[0m c\u001b[38;5;241m=\u001b[39m\u001b[43mcat\u001b[49m\u001b[43m(\u001b[49m\u001b[43m)\u001b[49m\n",
      "\u001b[1;31mTypeError\u001b[0m: Can't instantiate abstract class cat with abstract method speak"
     ]
    }
   ],
   "source": [
    "c=cat() "
   ]
  },
  {
   "cell_type": "code",
   "execution_count": 32,
   "id": "dcea0990",
   "metadata": {},
   "outputs": [],
   "source": [
    "#abstract method tells that everu animal class child should have the speak method defined in them for sure \n",
    "#as it is an abstract method hence mainly used for the building of the blue print of what what methods should be there for \n",
    "#sure their inner functioning can be anythind "
   ]
  },
  {
   "cell_type": "code",
   "execution_count": null,
   "id": "3c4ec43a",
   "metadata": {},
   "outputs": [],
   "source": []
  }
 ],
 "metadata": {
  "kernelspec": {
   "display_name": "Python 3 (ipykernel)",
   "language": "python",
   "name": "python3"
  },
  "language_info": {
   "codemirror_mode": {
    "name": "ipython",
    "version": 3
   },
   "file_extension": ".py",
   "mimetype": "text/x-python",
   "name": "python",
   "nbconvert_exporter": "python",
   "pygments_lexer": "ipython3",
   "version": "3.10.9"
  }
 },
 "nbformat": 4,
 "nbformat_minor": 5
}
